{
 "cells": [
  {
   "cell_type": "code",
   "execution_count": 1,
   "id": "cf6d2e13-a7e0-48d5-a6cf-130617bb857c",
   "metadata": {},
   "outputs": [
    {
     "name": "stdout",
     "output_type": "stream",
     "text": [
      "^C\n"
     ]
    }
   ],
   "source": [
    "!pip install sentence-transformers"
   ]
  },
  {
   "cell_type": "code",
   "execution_count": null,
   "id": "b4f022ce-e7ec-482c-a072-88080fcd88d3",
   "metadata": {},
   "outputs": [],
   "source": [
    "# Import required libraries\n",
    "from sentence_transformers import SentenceTransformer\n",
    "import numpy as np\n",
    "\n",
    "# Simple test to ensure everything works\n",
    "print(\"✓ Imports successful!\")"
   ]
  },
  {
   "cell_type": "code",
   "execution_count": 54,
   "id": "a47fa44e-e1ab-41ce-8ece-b504a42b213e",
   "metadata": {},
   "outputs": [
    {
     "name": "stdout",
     "output_type": "stream",
     "text": [
      "Model loaded successfully!\n"
     ]
    }
   ],
   "source": [
    "from sentence_transformers import SentenceTransformer\n",
    "\n",
    "# Load the model - this may take a few seconds\n",
    "model = SentenceTransformer('all-MiniLM-L6-v2')\n",
    "\n",
    "print(\"Model loaded successfully!\")\n"
   ]
  },
  {
   "cell_type": "code",
   "execution_count": 56,
   "id": "e44163f2-cc0b-42b6-918b-bc0031b06c32",
   "metadata": {},
   "outputs": [
    {
     "name": "stdout",
     "output_type": "stream",
     "text": [
      "Embedding shape: (384,)\n",
      "First 5 values: [ 0.03313288 -0.0281372   0.10922699  0.02421217  0.04646194]\n"
     ]
    }
   ],
   "source": [
    "# Create an embedding for a simple sentence\n",
    "test_sentence = \"This is a test sentence to understand embeddings.\"\n",
    "embedding = model.encode(test_sentence)\n",
    "\n",
    "# Look at the embedding's properties\n",
    "print(f\"Embedding shape: {embedding.shape}\")\n",
    "print(f\"First 5 values: {embedding[:5]}\")\n"
   ]
  },
  {
   "cell_type": "code",
   "execution_count": 58,
   "id": "a9a495a2-de9c-4dca-b170-42ff3c42b2f5",
   "metadata": {},
   "outputs": [
    {
     "name": "stdout",
     "output_type": "stream",
     "text": [
      "Number of embeddings: 3\n",
      "Shape of each embedding: (384,)\n"
     ]
    }
   ],
   "source": [
    "# Create embeddings for a few test sentences\n",
    "test_sentences = [\n",
    "    \"Python is a programming language\",\n",
    "    \"Programming languages are used to write software\",\n",
    "    \"Pythons are large snakes\"\n",
    "]\n",
    "\n",
    "# Generate embeddings for all sentences at once\n",
    "embeddings = model.encode(test_sentences)\n",
    "\n",
    "# Output some details about the embeddings\n",
    "print(f\"Number of embeddings: {len(embeddings)}\")\n",
    "print(f\"Shape of each embedding: {embeddings[0].shape}\")\n"
   ]
  },
  {
   "cell_type": "code",
   "execution_count": 52,
   "id": "cb75c185-4f4d-423e-adf5-85aee9f7f992",
   "metadata": {},
   "outputs": [
    {
     "name": "stdout",
     "output_type": "stream",
     "text": [
      "Created 8 notes\n"
     ]
    }
   ],
   "source": [
    "# Initialize our collection of notes\n",
    "notes = [\n",
    "    \"Python lists are mutable sequences used to store collections of items. They can contain mixed types and are defined using square brackets.\",\n",
    "    \"Lists in Python can be modified after creation. Common operations include append(), extend(), and insert().\",\n",
    "    \"Data structures are fundamental building blocks in programming. They help organize and store data efficiently.\",\n",
    "    \"Arrays in NumPy provide efficient storage and operations for numerical data. They are widely used in scientific computing.\",\n",
    "    \"Object-oriented programming in Python uses classes and objects. Classes define the structure and behavior of objects.\",\n",
    "    \"The pandas library is built on top of NumPy and provides powerful data manipulation tools through DataFrames.\",\n",
    "    \"Version control with Git helps track changes in code. Common commands include commit, push, and pull.\",\n",
    "    \"Python functions are defined using the def keyword. They can accept parameters and return values.\",\n",
    "]\n",
    "\n",
    "# Print the number of notes we have\n",
    "print(f\"Created {len(notes)} notes\")"
   ]
  },
  {
   "cell_type": "code",
   "execution_count": 7,
   "id": "1fe10ff5-c4d6-4ce6-b3fb-d415d60a20ce",
   "metadata": {},
   "outputs": [
    {
     "name": "stdout",
     "output_type": "stream",
     "text": [
      "\n",
      "Note 1 (Length: 138 characters):\n",
      "==================================================\n",
      "Python lists are mutable sequences used to store collections of items. They can contain mixed types and are defined using square brackets.\n",
      "\n",
      "Note 2 (Length: 107 characters):\n",
      "==================================================\n",
      "Lists in Python can be modified after creation. Common operations include append(), extend(), and insert().\n",
      "\n",
      "Note 3 (Length: 110 characters):\n",
      "==================================================\n",
      "Data structures are fundamental building blocks in programming. They help organize and store data efficiently.\n",
      "\n",
      "Note 4 (Length: 122 characters):\n",
      "==================================================\n",
      "Arrays in NumPy provide efficient storage and operations for numerical data. They are widely used in scientific computing.\n",
      "\n",
      "Note 5 (Length: 117 characters):\n",
      "==================================================\n",
      "Object-oriented programming in Python uses classes and objects. Classes define the structure and behavior of objects.\n",
      "\n",
      "Note 6 (Length: 109 characters):\n",
      "==================================================\n",
      "The pandas library is built on top of NumPy and provides powerful data manipulation tools through DataFrames.\n",
      "\n",
      "Note 7 (Length: 101 characters):\n",
      "==================================================\n",
      "Version control with Git helps track changes in code. Common commands include commit, push, and pull.\n",
      "\n",
      "Note 8 (Length: 97 characters):\n",
      "==================================================\n",
      "Python functions are defined using the def keyword. They can accept parameters and return values.\n"
     ]
    }
   ],
   "source": [
    "# Print each note with its length\n",
    "for i, note in enumerate(notes):\n",
    "    print(f\"\\nNote {i+1} (Length: {len(note)} characters):\")\n",
    "    print(f\"{'='*50}\")\n",
    "    print(note)\n",
    "    "
   ]
  },
  {
   "cell_type": "code",
   "execution_count": 9,
   "id": "a551a9d7-e4d2-40fb-aa4a-c3d9a53c8e02",
   "metadata": {},
   "outputs": [
    {
     "name": "stdout",
     "output_type": "stream",
     "text": [
      "Average words per note: 16.8\n",
      "Shortest note: 15 words\n",
      "Longest note: 22 words\n"
     ]
    }
   ],
   "source": [
    "# Quick analysis of our notes\n",
    "note_lengths = [len(note.split()) for note in notes]\n",
    "\n",
    "print(f\"Average words per note: {sum(note_lengths)/len(note_lengths):.1f}\")\n",
    "print(f\"Shortest note: {min(note_lengths)} words\")\n",
    "print(f\"Longest note: {max(note_lengths)} words\")"
   ]
  },
  {
   "cell_type": "code",
   "execution_count": 35,
   "id": "f3dee89a-6298-4461-8ab6-9b8e3897553a",
   "metadata": {},
   "outputs": [
    {
     "name": "stdout",
     "output_type": "stream",
     "text": [
      "Created embeddings for 8 notes\n",
      "Each embedding has shape: (384,)\n"
     ]
    }
   ],
   "source": [
    "# Convert all notes to embeddings\n",
    "note_embeddings = model.encode(notes)\n",
    "\n",
    "print(f\"Created embeddings for {len(notes)} notes\")\n",
    "print(f\"Each embedding has shape: {note_embeddings[0].shape}\")\n"
   ]
  },
  {
   "cell_type": "code",
   "execution_count": 60,
   "id": "6cb26d3c-b965-4366-a04c-45fa13555f45",
   "metadata": {},
   "outputs": [
    {
     "name": "stdout",
     "output_type": "stream",
     "text": [
      "\n",
      "Similarity between:\n",
      "'Python is a programming language' and\n",
      "'Programming languages are used to write software': 0.657\n",
      "\n",
      "Similarity between:\n",
      "'Python is a programming language' and\n",
      "'Pythons are large snakes': 0.497\n",
      "\n",
      "Similarity between:\n",
      "'Programming languages are used to write software' and\n",
      "'Pythons are large snakes': 0.119\n"
     ]
    }
   ],
   "source": [
    "import numpy as np\n",
    "\n",
    "# Calculate cosine similarity between two embeddings\n",
    "def calculate_similarity(emb1, emb2):\n",
    "    return np.dot(emb1, emb2) / (np.linalg.norm(emb1) * np.linalg.norm(emb2))\n",
    "\n",
    "# Get similarities between all pairs of sentences\n",
    "for i in range(len(test_sentences)):\n",
    "    for j in range(i + 1, len(test_sentences)):\n",
    "        similarity = calculate_similarity(embeddings[i], embeddings[j])\n",
    "        print(f\"\\nSimilarity between:\\n'{test_sentences[i]}' and\\n'{test_sentences[j]}': {similarity:.3f}\")\n"
   ]
  },
  {
   "cell_type": "code",
   "execution_count": 37,
   "id": "2a2006a1-74e8-479a-84ee-68e2224b97e8",
   "metadata": {},
   "outputs": [],
   "source": [
    "# Create the search function\n",
    "def search_notes(query, top_k=3):\n",
    "    # Convert search query to embedding\n",
    "    query_embedding = model.encode(query)\n",
    "    \n",
    "    # Calculate similarities with all notes\n",
    "    similarities = np.dot(note_embeddings, query_embedding) / (\n",
    "        np.linalg.norm(note_embeddings, axis=1) * np.linalg.norm(query_embedding)\n",
    "    )\n",
    "    \n",
    "    # Get top k matches\n",
    "    top_idx = np.argsort(similarities)[::-1][:top_k]\n",
    "    \n",
    "    # A list of dictionaries\n",
    "    results = []\n",
    "    for idx in top_idx:\n",
    "        results.append({\n",
    "            'note': notes[idx],\n",
    "            'similarity': similarities[idx]\n",
    "        })\n",
    "        \n",
    "    # Return matching notes with their similarity scores\n",
    "    return results\n"
   ]
  },
  {
   "cell_type": "code",
   "execution_count": 39,
   "id": "43a33298-4103-4a9e-af07-7342d6284605",
   "metadata": {},
   "outputs": [],
   "source": [
    "# Function to display search results nicely\n",
    "def display_results(query, results):\n",
    "    print(f\"\\nSearch Query: '{query}'\")\n",
    "    print(\"=\" * 50)\n",
    "    for i, r in enumerate(results, 1):\n",
    "        print(f\"\\n{i}. Match ({r['similarity']:.2%} similar):\")\n",
    "        print(r['note'])\n"
   ]
  },
  {
   "cell_type": "code",
   "execution_count": 43,
   "id": "c353e86c-d0da-414f-b247-d7a392298c29",
   "metadata": {},
   "outputs": [
    {
     "name": "stdout",
     "output_type": "stream",
     "text": [
      "\n",
      "Search Query: 'How do Python lists work?'\n",
      "==================================================\n",
      "\n",
      "1. Match (79.09% similar):\n",
      "Python lists are mutable sequences used to store collections of items. They can contain mixed types and are defined using square brackets.\n",
      "\n",
      "2. Match (72.10% similar):\n",
      "Lists in Python can be modified after creation. Common operations include append(), extend(), and insert().\n",
      "\n",
      "3. Match (52.82% similar):\n",
      "Object-oriented programming in Python uses classes and objects. Classes define the structure and behavior of objects.\n",
      "\n",
      "Search Query: 'Tell me about data structures'\n",
      "==================================================\n",
      "\n",
      "1. Match (84.95% similar):\n",
      "Data structures are fundamental building blocks in programming. They help organize and store data efficiently.\n",
      "\n",
      "2. Match (36.30% similar):\n",
      "Object-oriented programming in Python uses classes and objects. Classes define the structure and behavior of objects.\n",
      "\n",
      "3. Match (34.01% similar):\n",
      "Arrays in NumPy provide efficient storage and operations for numerical data. They are widely used in scientific computing.\n",
      "\n",
      "Search Query: 'What is object oriented programming?'\n",
      "==================================================\n",
      "\n",
      "1. Match (68.08% similar):\n",
      "Object-oriented programming in Python uses classes and objects. Classes define the structure and behavior of objects.\n",
      "\n",
      "2. Match (42.41% similar):\n",
      "Data structures are fundamental building blocks in programming. They help organize and store data efficiently.\n",
      "\n",
      "3. Match (25.97% similar):\n",
      "Version control with Git helps track changes in code. Common commands include commit, push, and pull.\n"
     ]
    }
   ],
   "source": [
    "# Try some example searches\n",
    "queries = [\n",
    "    \"How do Python lists work?\",\n",
    "    \"Tell me about data structures\",\n",
    "    \"What is object oriented programming?\"\n",
    "]\n",
    "\n",
    "for query in queries:\n",
    "    results = search_notes(query)\n",
    "    display_results(query, results)\n"
   ]
  },
  {
   "cell_type": "code",
   "execution_count": 47,
   "id": "0f2ca4e9-4e7f-4aaf-8538-455bda66c9ed",
   "metadata": {},
   "outputs": [
    {
     "name": "stdout",
     "output_type": "stream",
     "text": [
      "\n",
      "Search Query: 'What's the difference between lists and arrays?'\n",
      "==================================================\n",
      "\n",
      "1. Match (59.03% similar):\n",
      "Python lists are mutable sequences used to store collections of items. They can contain mixed types and are defined using square brackets.\n",
      "\n",
      "2. Match (48.82% similar):\n",
      "Arrays in NumPy provide efficient storage and operations for numerical data. They are widely used in scientific computing.\n",
      "\n",
      "3. Match (47.15% similar):\n",
      "Lists in Python can be modified after creation. Common operations include append(), extend(), and insert().\n"
     ]
    }
   ],
   "source": [
    "my_query = \"What's the difference between lists and arrays?\"\n",
    "results = search_notes(my_query)\n",
    "display_results(my_query, results)\n"
   ]
  },
  {
   "cell_type": "code",
   "execution_count": null,
   "id": "d05c0ea3-a3d0-4e5b-b948-a0b3dc96c948",
   "metadata": {},
   "outputs": [],
   "source": []
  },
  {
   "cell_type": "code",
   "execution_count": null,
   "id": "4856e0d2-cc97-4c31-8e88-6e8b4d92dded",
   "metadata": {},
   "outputs": [],
   "source": []
  }
 ],
 "metadata": {
  "kernelspec": {
   "display_name": "Python 3 (ipykernel)",
   "language": "python",
   "name": "python3"
  },
  "language_info": {
   "codemirror_mode": {
    "name": "ipython",
    "version": 3
   },
   "file_extension": ".py",
   "mimetype": "text/x-python",
   "name": "python",
   "nbconvert_exporter": "python",
   "pygments_lexer": "ipython3",
   "version": "3.12.4"
  }
 },
 "nbformat": 4,
 "nbformat_minor": 5
}
